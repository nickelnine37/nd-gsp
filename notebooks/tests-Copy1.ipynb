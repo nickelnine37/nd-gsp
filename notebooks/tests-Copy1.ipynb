{
 "cells": [
  {
   "cell_type": "code",
   "execution_count": 1,
   "metadata": {},
   "outputs": [
    {
     "data": {
      "text/html": [
       "<style>.container { width:90% !important; }</style>"
      ],
      "text/plain": [
       "<IPython.core.display.HTML object>"
      ]
     },
     "metadata": {},
     "output_type": "display_data"
    }
   ],
   "source": [
    "from IPython.display import display, HTML\n",
    "display(HTML(\"<style>.container { width:90% !important; }</style>\"))\n",
    "\n",
    "import numpy as np\n",
    "import matplotlib.pyplot as plt\n",
    "import pandas as pd\n",
    "\n",
    "np.set_printoptions(precision=3, linewidth=500, threshold=500, suppress=True, edgeitems=5)\n",
    "\n",
    "pd.set_option('display.max_rows', 200)\n",
    "pd.set_option('display.min_rows', 50)\n",
    "pd.set_option('display.width', 1000)\n",
    "pd.set_option('display.max_columns', 100)\n",
    "\n",
    "%load_ext autoreload\n",
    "%autoreload 2\n",
    "%matplotlib notebook"
   ]
  },
  {
   "cell_type": "code",
   "execution_count": 2,
   "metadata": {},
   "outputs": [],
   "source": [
    "from numpy.random import randn\n",
    "from numpy import diag, ndarray\n",
    "\n"
   ]
  },
  {
   "cell_type": "code",
   "execution_count": 3,
   "metadata": {},
   "outputs": [],
   "source": [
    "import sys\n",
    "sys.path.append('..')"
   ]
  },
  {
   "cell_type": "code",
   "execution_count": 4,
   "metadata": {},
   "outputs": [],
   "source": [
    "from utils.kronecker import KroneckerOperator, KroneckerProduct, KroneckerSum, KroneckerDiag, ProductChain, SumChain\n",
    "from utils.linalg import kronecker_product_literal, kronecker_sum_literal, vec, ten\n"
   ]
  },
  {
   "cell_type": "code",
   "execution_count": 5,
   "metadata": {},
   "outputs": [],
   "source": [
    "N1 = 6\n",
    "N2 = 5\n",
    "N3 = 4\n",
    "N4 = 3\n",
    "\n",
    "A1 = randn(N1, N1)\n",
    "A2 = randn(N2, N2)\n",
    "A3 = randn(N3, N3)\n",
    "A4 = randn(N4, N4)\n",
    "\n",
    "X = randn(N4, N3, N2, N1)\n",
    "D = randn(N4, N3, N2, N1)"
   ]
  },
  {
   "cell_type": "code",
   "execution_count": 13,
   "metadata": {},
   "outputs": [
    {
     "data": {
      "text/plain": [
       "array([ 40.256, -10.571,  15.522,  21.423,   1.295,   0.52 ,  23.634,   3.935,   1.208,  31.896,   4.173,  -1.004,  -2.16 ,   0.802,   1.819,  16.229,   0.988,  -1.75 ,   5.495,   2.14 ,   1.096,  13.69 ,   2.677,   0.678,  11.437,   0.529,   6.522,  -1.98 ,  -1.79 ,   3.873, -38.655,  -2.881,  -2.228,  -6.45 ,  -2.546,   1.236,  15.236,  13.549,   6.285,  56.312,  -8.859,   3.384,  14.136,  -1.196,   0.504,  25.526,  -2.469,  -0.287, -51.481,  -0.162,  -6.447,  -1.354,   5.724,  -6.346,\n",
       "         2.778,   7.909,  -1.978,  27.317,   0.54 ,  -1.809, -28.432,   2.402,  -3.287, -12.175,   4.078,  -3.274,   8.229,   3.091,  -0.849,   3.682,   1.225,   0.772,  -2.845,   0.595,  -0.168,   3.763,   0.314,   0.105,  -4.13 ,   0.702,   0.294,  -0.962,  -0.737,   0.542,  -1.007,   0.31 ,  -1.594,   5.84 ,   1.645,  -0.87 ,   0.747,   0.238,   0.055,   4.8  ,   0.774,   0.202,   1.298,  -2.452,  -1.977,   3.251,  -1.899,  -3.677,  -3.126,  -0.071,  -0.989,   0.485,  -1.084,   0.458,\n",
       "        -0.203,   7.862,   1.344,  -4.556,   4.55 ,  -1.32 ,   2.187,  -0.085,   0.185,  -3.654,   0.872,  -0.799,   2.191,  -3.071,   2.855,  -3.484,   0.817,   0.796,   1.281,   1.009,   0.161,   1.365,   0.569,  -0.048,  -0.063,  -0.242,   0.298,   1.358,  -0.405,  -0.039,  -1.314,   0.096,   0.108,  -0.803,  -0.288,   0.051,   1.384,  -0.008,   0.176,   0.552,   0.771,   0.661,  -0.128,   0.242,  -0.157,   0.927,   0.118,   0.033,  -0.721,   2.104,   0.833,   5.949,  -2.023,   1.261,\n",
       "        -3.005,  -0.598,  -0.631,   1.139,  -1.118,   0.393,   3.47 ,  -0.733,  -0.942,   5.02 ,   1.987,   0.564,  -0.345,  -0.143,   0.083,   2.918,   0.135,  -0.254,   6.438,  -2.854,   6.261, -37.414,  -8.296,  -1.533, -17.987,   2.429,  -1.724,  -7.135,  -6.054,  -0.855,   2.453,   1.456,   0.076,  -4.797,  -2.459,  -4.044,   1.795,   2.227,  -0.973,   4.269,  -1.557,  -0.923,  -9.455,   2.728,   0.058,   4.658,   1.74 ,  -0.842,  -0.341,   2.202,  -1.018,   6.713,  -1.192,  -0.258,\n",
       "        -2.262,   2.235,  -0.479,  -4.471,  -4.736,   1.11 ,   3.438,  -1.117,  -3.899,   7.174,  -1.801,   2.751, -35.076,   9.728,   0.928, -28.352,  12.092,  -0.109,  -0.351,   6.345,   0.589,   1.541,   2.331,  -0.841,   8.683,  -1.086,  -1.672,  -9.049,   3.489,   0.215,   8.405,   2.463,  -0.511,   9.461,  -0.468,   0.055,   0.286,   1.765,   0.255,   2.827,   0.695,  -0.23 ,   1.835,   0.949,   0.376,   1.061,   0.51 ,  -0.343,   2.35 ,   3.024,  -1.108,   8.134,   1.667,   0.841,\n",
       "        -4.601,  -0.726,   0.314,   0.303,   0.142,  -0.515,   5.601,   1.898,  -3.813,   7.17 ,   0.466,  -1.18 ,   9.249,  -0.2  ,  -0.074,  -0.093,  -0.485,  -0.811, -11.03 ,  -0.141,   0.83 ,   1.386,   0.896,   1.189,   6.462,  -0.744,  -0.645,   1.383,   2.282,  -0.229,   4.714,   1.301,  -5.555, -10.597,   1.902,   0.738,   6.714,   1.603,  -0.887,   7.501,  -0.607,   0.506,  -3.888,   2.311,  -0.396,   1.577,  -0.894,   0.092,   0.988,  -0.009,   0.058,   2.772,   0.404,  -0.484,\n",
       "         5.157,   3.636,  -0.336,   7.342,   0.99 ,   1.251,  -2.888,  -0.76 ,   0.572,  -0.581,   0.287,  -0.342,  -7.4  ,   0.852,  -5.715,   6.139,   0.77 ,   0.923,  10.679,  -2.649,   1.867,   0.026,  -0.033,  -1.189, -11.428,  -0.028,   1.547,   7.348,  -2.29 ,  -0.069,   8.29 ,   0.119,  -0.971,   3.004,   2.277,  -0.505])"
      ]
     },
     "execution_count": 13,
     "metadata": {},
     "output_type": "execute_result"
    }
   ],
   "source": [
    "(kronecker_sum_literal(A1, A2, A3, A4) * kronecker_product_literal(A1, A2, A3, A4)) @ vec(X)"
   ]
  },
  {
   "cell_type": "code",
   "execution_count": null,
   "metadata": {},
   "outputs": [],
   "source": []
  }
 ],
 "metadata": {
  "kernelspec": {
   "display_name": "Python 3 (ipykernel)",
   "language": "python",
   "name": "python3"
  },
  "language_info": {
   "codemirror_mode": {
    "name": "ipython",
    "version": 3
   },
   "file_extension": ".py",
   "mimetype": "text/x-python",
   "name": "python",
   "nbconvert_exporter": "python",
   "pygments_lexer": "ipython3",
   "version": "3.10.0"
  }
 },
 "nbformat": 4,
 "nbformat_minor": 1
}
